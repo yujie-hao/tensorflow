{
 "cells": [
  {
   "cell_type": "code",
   "execution_count": 1,
   "id": "d1d5ebed",
   "metadata": {},
   "outputs": [
    {
     "name": "stdout",
     "output_type": "stream",
     "text": [
      "Tensorflow version:  2.6.0\n"
     ]
    }
   ],
   "source": [
    "import tensorflow as tf\n",
    "print(\"Tensorflow version: \", tf.__version__)"
   ]
  },
  {
   "cell_type": "code",
   "execution_count": 2,
   "id": "a2a37c8d",
   "metadata": {
    "scrolled": true
   },
   "outputs": [
    {
     "name": "stdout",
     "output_type": "stream",
     "text": [
      "[name: \"/device:CPU:0\"\n",
      "device_type: \"CPU\"\n",
      "memory_limit: 268435456\n",
      "locality {\n",
      "}\n",
      "incarnation: 12485830843488267260\n",
      "]\n"
     ]
    }
   ],
   "source": [
    "from tensorflow.python.client import device_lib\n",
    "print(device_lib.list_local_devices())"
   ]
  },
  {
   "cell_type": "markdown",
   "id": "b268c2c5",
   "metadata": {},
   "source": [
    "### Tensor: Multi deimensional array used in Tensorflow\n",
    "* Constant\n",
    "* Variable"
   ]
  },
  {
   "cell_type": "code",
   "execution_count": 3,
   "id": "06b1f1f5",
   "metadata": {},
   "outputs": [],
   "source": [
    "import numpy as np"
   ]
  },
  {
   "cell_type": "code",
   "execution_count": 4,
   "id": "a1661fc8",
   "metadata": {},
   "outputs": [
    {
     "name": "stdout",
     "output_type": "stream",
     "text": [
      "Tensor a's rank is 0\n"
     ]
    },
    {
     "data": {
      "text/plain": [
       "<tf.Tensor: shape=(), dtype=int32, numpy=3>"
      ]
     },
     "execution_count": 4,
     "metadata": {},
     "output_type": "execute_result"
    }
   ],
   "source": [
    "# define a scalar as constant\n",
    "a = tf.constant(3)\n",
    "print(\"Tensor a's rank is {}\".format(tf.rank(a)))\n",
    "a"
   ]
  },
  {
   "cell_type": "code",
   "execution_count": 5,
   "id": "64fde118",
   "metadata": {},
   "outputs": [
    {
     "name": "stdout",
     "output_type": "stream",
     "text": [
      "Tensor rank is 2\n"
     ]
    }
   ],
   "source": [
    "# define a matrix as constant\n",
    "b = tf.constant([[1, 2], [0, 0]])\n",
    "print(\"Tensor rank is {}\".format(tf.rank(b)))"
   ]
  },
  {
   "cell_type": "code",
   "execution_count": 6,
   "id": "ec0bccbc",
   "metadata": {},
   "outputs": [
    {
     "name": "stdout",
     "output_type": "stream",
     "text": [
      "Tensor rank is 2\n"
     ]
    },
    {
     "data": {
      "text/plain": [
       "<tf.Tensor: shape=(2, 2), dtype=float64, numpy=\n",
       "array([[0.2379978 , 0.602721  ],\n",
       "       [0.50759411, 0.77619511]])>"
      ]
     },
     "execution_count": 6,
     "metadata": {},
     "output_type": "execute_result"
    }
   ],
   "source": [
    "# define ndarray as constant\n",
    "c = tf.constant(np.random.rand(2,2))\n",
    "print(\"Tensor rank is {}\".format(tf.rank(c)))\n",
    "c"
   ]
  },
  {
   "cell_type": "code",
   "execution_count": 7,
   "id": "c9e02b65",
   "metadata": {},
   "outputs": [
    {
     "data": {
      "text/plain": [
       "<tf.Variable 'Variable:0' shape=() dtype=int32, numpy=3>"
      ]
     },
     "execution_count": 7,
     "metadata": {},
     "output_type": "execute_result"
    }
   ],
   "source": [
    "# define a scalar as variable\n",
    "x = tf.Variable(3)\n",
    "x"
   ]
  },
  {
   "cell_type": "code",
   "execution_count": 8,
   "id": "916e4c9e",
   "metadata": {},
   "outputs": [
    {
     "data": {
      "text/plain": [
       "<tf.Variable 'Variable:0' shape=() dtype=int32, numpy=3>"
      ]
     },
     "execution_count": 8,
     "metadata": {},
     "output_type": "execute_result"
    }
   ],
   "source": [
    "# convert a constant as a variable\n",
    "x = tf.Variable(a)\n",
    "x"
   ]
  },
  {
   "cell_type": "code",
   "execution_count": 9,
   "id": "1a38b422",
   "metadata": {},
   "outputs": [
    {
     "data": {
      "text/plain": [
       "<tf.Variable 'UnreadVariable' shape=() dtype=int32, numpy=0>"
      ]
     },
     "execution_count": 9,
     "metadata": {},
     "output_type": "execute_result"
    }
   ],
   "source": [
    "# Variable could assign new value, but constant could not be re-assigned\n",
    "# a.assign(0) # wrong\n",
    "x.assign(0) # right"
   ]
  },
  {
   "cell_type": "code",
   "execution_count": 10,
   "id": "cba59b63",
   "metadata": {},
   "outputs": [
    {
     "name": "stdout",
     "output_type": "stream",
     "text": [
      "tf.Tensor(\n",
      "[[1 2]\n",
      " [3 4]], shape=(2, 2), dtype=int32)\n"
     ]
    }
   ],
   "source": [
    "# type cast\n",
    "b = tf.constant([[1, 2], [3, 4]])\n",
    "print(b)"
   ]
  },
  {
   "cell_type": "code",
   "execution_count": 11,
   "id": "2462236c",
   "metadata": {},
   "outputs": [
    {
     "name": "stdout",
     "output_type": "stream",
     "text": [
      "tf.Tensor(\n",
      "[[1. 2.]\n",
      " [3. 4.]], shape=(2, 2), dtype=float32)\n"
     ]
    }
   ],
   "source": [
    "b = tf.cast(b, dtype = tf.float32)\n",
    "print(b)"
   ]
  },
  {
   "cell_type": "code",
   "execution_count": 12,
   "id": "78ebd930",
   "metadata": {},
   "outputs": [
    {
     "name": "stdout",
     "output_type": "stream",
     "text": [
      "27\n",
      "tf.Tensor(27, shape=(), dtype=int32)\n"
     ]
    }
   ],
   "source": [
    "# simple function\n",
    "# x = tf.Variable(2) # correct\n",
    "# y = tf.Variable(5)\n",
    "x = tf.constant(2) # correct\n",
    "y = tf.constant(5)\n",
    "f = x * x * y + y + 2\n",
    "print(f.numpy()) # f.numpy() show the value of numpy\n",
    "print(f)"
   ]
  },
  {
   "cell_type": "code",
   "execution_count": 13,
   "id": "d1898b7c",
   "metadata": {},
   "outputs": [
    {
     "data": {
      "text/plain": [
       "<tf.Tensor: shape=(2, 2), dtype=int32, numpy=\n",
       "array([[1, 2],\n",
       "       [3, 4]], dtype=int32)>"
      ]
     },
     "execution_count": 13,
     "metadata": {},
     "output_type": "execute_result"
    }
   ],
   "source": [
    "tensor_test = tf.constant([[1,2],[3,4]])\n",
    "tensor_test"
   ]
  },
  {
   "cell_type": "code",
   "execution_count": 14,
   "id": "3830db0e",
   "metadata": {},
   "outputs": [
    {
     "data": {
      "text/plain": [
       "TensorShape([2, 2])"
      ]
     },
     "execution_count": 14,
     "metadata": {},
     "output_type": "execute_result"
    }
   ],
   "source": [
    "tensor_test.shape"
   ]
  },
  {
   "cell_type": "code",
   "execution_count": 15,
   "id": "797eaaad",
   "metadata": {},
   "outputs": [
    {
     "data": {
      "text/plain": [
       "array([[1, 2],\n",
       "       [3, 4]], dtype=int32)"
      ]
     },
     "execution_count": 15,
     "metadata": {},
     "output_type": "execute_result"
    }
   ],
   "source": [
    "tensor_test.numpy()"
   ]
  },
  {
   "cell_type": "code",
   "execution_count": 16,
   "id": "189d7cf5",
   "metadata": {},
   "outputs": [
    {
     "data": {
      "text/plain": [
       "<tf.Tensor: shape=(2, 2), dtype=int32, numpy=\n",
       "array([[ 7,  8],\n",
       "       [ 9, 10]], dtype=int32)>"
      ]
     },
     "execution_count": 16,
     "metadata": {},
     "output_type": "execute_result"
    }
   ],
   "source": [
    "# broadcasting: add the int to every element in the matrix\n",
    "tensor_test = tensor_test + 6\n",
    "tensor_test"
   ]
  },
  {
   "cell_type": "code",
   "execution_count": 17,
   "id": "c249825f",
   "metadata": {},
   "outputs": [
    {
     "data": {
      "text/plain": [
       "<tf.Tensor: shape=(2, 2), dtype=int32, numpy=\n",
       "array([[ 1,  4],\n",
       "       [ 9, 16]], dtype=int32)>"
      ]
     },
     "execution_count": 17,
     "metadata": {},
     "output_type": "execute_result"
    }
   ],
   "source": [
    "# square\n",
    "tensor_test = tf.constant([[1,2],[3,4]])\n",
    "tensor_test = tf.square(tensor_test)\n",
    "tensor_test"
   ]
  },
  {
   "cell_type": "code",
   "execution_count": 18,
   "id": "c613849d",
   "metadata": {},
   "outputs": [
    {
     "data": {
      "text/plain": [
       "<tf.Tensor: shape=(2, 2), dtype=float32, numpy=\n",
       "array([[1., 2.],\n",
       "       [3., 4.]], dtype=float32)>"
      ]
     },
     "execution_count": 18,
     "metadata": {},
     "output_type": "execute_result"
    }
   ],
   "source": [
    "# sqrt, has to be float for sqrt\n",
    "tensor_test = tf.constant([[1., 4.], [9.,16.]])\n",
    "tensor_test = tf.sqrt(tensor_test)\n",
    "tensor_test"
   ]
  },
  {
   "cell_type": "code",
   "execution_count": 19,
   "id": "5e5c6c12",
   "metadata": {},
   "outputs": [
    {
     "data": {
      "text/plain": [
       "<tf.Tensor: shape=(2, 2), dtype=float32, numpy=\n",
       "array([[ 7., 10.],\n",
       "       [15., 22.]], dtype=float32)>"
      ]
     },
     "execution_count": 19,
     "metadata": {},
     "output_type": "execute_result"
    }
   ],
   "source": [
    "tensor_test = tf.matmul(tensor_test, tensor_test)\n",
    "tensor_test"
   ]
  },
  {
   "cell_type": "code",
   "execution_count": 20,
   "id": "8b294d51",
   "metadata": {},
   "outputs": [
    {
     "data": {
      "text/plain": [
       "array([[  1,  16],\n",
       "       [ 81, 256]], dtype=int32)"
      ]
     },
     "execution_count": 20,
     "metadata": {},
     "output_type": "execute_result"
    }
   ],
   "source": [
    "# numpy function could be used for tensor calculation, return numpy array\n",
    "tensor_test = tf.constant([[1,4],[9,16]])\n",
    "np.square(tensor_test)"
   ]
  },
  {
   "cell_type": "markdown",
   "id": "bff0ecb6",
   "metadata": {},
   "source": [
    "### TensorFlow automatic derivation mechanism\n",
    "#### only calculate derivation for variable tensor"
   ]
  },
  {
   "cell_type": "code",
   "execution_count": 21,
   "id": "42e87205",
   "metadata": {},
   "outputs": [
    {
     "name": "stdout",
     "output_type": "stream",
     "text": [
      "The gradient df/df where f=(x^2):\n",
      " tf.Tensor([4.], shape=(1,), dtype=float32)\n"
     ]
    }
   ],
   "source": [
    "# tf.GradientTape --> derivation\n",
    "x = tf.Variable([2.]) # has to be variable, has to be float\n",
    "# x = tf.Variable([2])\n",
    "\n",
    "with tf.GradientTape(persistent=False, watch_accessed_variables=True) as tape:\n",
    "    f = x ** 2\n",
    "    \n",
    "print(\"The gradient df/df where f=(x^2):\\n\", tape.gradient(f, x))"
   ]
  },
  {
   "cell_type": "code",
   "execution_count": 22,
   "id": "4313e038",
   "metadata": {},
   "outputs": [
    {
     "name": "stdout",
     "output_type": "stream",
     "text": [
      "The gradient df/fx where f = (x ^ 2):\n",
      " None\n",
      "WARNING:tensorflow:The dtype of the target tensor must be floating (e.g. tf.float32) when calling GradientTape.gradient, got tf.int32\n",
      "WARNING:tensorflow:The dtype of the source tensor must be floating (e.g. tf.float32) when calling GradientTape.gradient, got tf.int32\n",
      "The gradient df/dx where f=(x ^ 2):\n",
      " None\n",
      "The gradient df/dx where f=(x ^ 2):\n",
      " tf.Tensor([4.], shape=(1,), dtype=float32)\n"
     ]
    }
   ],
   "source": [
    "# the variable tensor has to be float, when calculate its derivation\n",
    "\n",
    "# wrong: has to be variable, not constant\n",
    "x = tf.constant([2.0])\n",
    "with tf.GradientTape(persistent=False, watch_accessed_variables=True) as tape:\n",
    "    f = x ** 2\n",
    "    \n",
    "print('The gradient df/fx where f = (x ^ 2):\\n', tape.gradient(f, x))\n",
    "\n",
    "# wrong: has to be float, not int\n",
    "x = tf.Variable([2])\n",
    "\n",
    "with tf.GradientTape(persistent=False, watch_accessed_variables=True) as tape:\n",
    "    f = x ** 2\n",
    "    \n",
    "print('The gradient df/dx where f=(x ^ 2):\\n', tape.gradient(f, x))\n",
    "\n",
    "# correct\n",
    "x = tf.Variable([2.0])\n",
    "\n",
    "with tf.GradientTape(persistent=False, watch_accessed_variables=True) as tape:\n",
    "    f = x ** 2\n",
    "    \n",
    "print('The gradient df/dx where f=(x ^ 2):\\n', tape.gradient(f, x))"
   ]
  },
  {
   "cell_type": "code",
   "execution_count": 23,
   "id": "4b252172",
   "metadata": {},
   "outputs": [
    {
     "name": "stdout",
     "output_type": "stream",
     "text": [
      "The gradient df/dx where f = (x ^ 2):\n",
      " tf.Tensor([4.], shape=(1,), dtype=float32)\n",
      "The gradient dh/dx where h = (x ^ 3):\n",
      " tf.Tensor([27.], shape=(1,), dtype=float32)\n"
     ]
    }
   ],
   "source": [
    "# calculate gradient descent for multiple functions\n",
    "x = tf.Variable([2.0])\n",
    "y = tf.Variable([3.0])\n",
    "\n",
    "with tf.GradientTape(persistent=True, watch_accessed_variables=True) as tape:\n",
    "    f = x ** 2\n",
    "    h = y ** 3\n",
    "\n",
    "# Print gradient output\n",
    "print('The gradient df/dx where f = (x ^ 2):\\n', tape.gradient(f, x))\n",
    "print('The gradient dh/dx where h = (x ^ 3):\\n', tape.gradient(h, y))"
   ]
  },
  {
   "cell_type": "code",
   "execution_count": 24,
   "id": "cc93a3df",
   "metadata": {},
   "outputs": [
    {
     "name": "stdout",
     "output_type": "stream",
     "text": [
      "The gradient df/dx where f = (x ^ 2):\n",
      " tf.Tensor([4.], shape=(1,), dtype=float32)\n"
     ]
    },
    {
     "ename": "RuntimeError",
     "evalue": "A non-persistent GradientTape can only be used to compute one set of gradients (or jacobians)",
     "output_type": "error",
     "traceback": [
      "\u001b[0;31m---------------------------------------------------------------------------\u001b[0m",
      "\u001b[0;31mRuntimeError\u001b[0m                              Traceback (most recent call last)",
      "\u001b[0;32m<ipython-input-24-13603044159c>\u001b[0m in \u001b[0;36m<module>\u001b[0;34m\u001b[0m\n\u001b[1;32m      9\u001b[0m \u001b[0;31m# Print gradient output\u001b[0m\u001b[0;34m\u001b[0m\u001b[0;34m\u001b[0m\u001b[0;34m\u001b[0m\u001b[0m\n\u001b[1;32m     10\u001b[0m \u001b[0mprint\u001b[0m\u001b[0;34m(\u001b[0m\u001b[0;34m'The gradient df/dx where f = (x ^ 2):\\n'\u001b[0m\u001b[0;34m,\u001b[0m \u001b[0mtape\u001b[0m\u001b[0;34m.\u001b[0m\u001b[0mgradient\u001b[0m\u001b[0;34m(\u001b[0m\u001b[0mf\u001b[0m\u001b[0;34m,\u001b[0m \u001b[0mx\u001b[0m\u001b[0;34m)\u001b[0m\u001b[0;34m)\u001b[0m\u001b[0;34m\u001b[0m\u001b[0;34m\u001b[0m\u001b[0m\n\u001b[0;32m---> 11\u001b[0;31m \u001b[0mprint\u001b[0m\u001b[0;34m(\u001b[0m\u001b[0;34m'The gradient dh/dy where h = (y ^ 3):\\n'\u001b[0m\u001b[0;34m,\u001b[0m \u001b[0mtape\u001b[0m\u001b[0;34m.\u001b[0m\u001b[0mgradient\u001b[0m\u001b[0;34m(\u001b[0m\u001b[0mh\u001b[0m\u001b[0;34m,\u001b[0m \u001b[0my\u001b[0m\u001b[0;34m)\u001b[0m\u001b[0;34m)\u001b[0m\u001b[0;34m\u001b[0m\u001b[0;34m\u001b[0m\u001b[0m\n\u001b[0m",
      "\u001b[0;32m~/opt/anaconda3/lib/python3.8/site-packages/tensorflow/python/eager/backprop.py\u001b[0m in \u001b[0;36mgradient\u001b[0;34m(self, target, sources, output_gradients, unconnected_gradients)\u001b[0m\n\u001b[1;32m   1030\u001b[0m     \"\"\"\n\u001b[1;32m   1031\u001b[0m     \u001b[0;32mif\u001b[0m \u001b[0mself\u001b[0m\u001b[0;34m.\u001b[0m\u001b[0m_tape\u001b[0m \u001b[0;32mis\u001b[0m \u001b[0;32mNone\u001b[0m\u001b[0;34m:\u001b[0m\u001b[0;34m\u001b[0m\u001b[0;34m\u001b[0m\u001b[0m\n\u001b[0;32m-> 1032\u001b[0;31m       raise RuntimeError(\"A non-persistent GradientTape can only be used to \"\n\u001b[0m\u001b[1;32m   1033\u001b[0m                          \"compute one set of gradients (or jacobians)\")\n\u001b[1;32m   1034\u001b[0m     \u001b[0;32mif\u001b[0m \u001b[0mself\u001b[0m\u001b[0;34m.\u001b[0m\u001b[0m_recording\u001b[0m\u001b[0;34m:\u001b[0m\u001b[0;34m\u001b[0m\u001b[0;34m\u001b[0m\u001b[0m\n",
      "\u001b[0;31mRuntimeError\u001b[0m: A non-persistent GradientTape can only be used to compute one set of gradients (or jacobians)"
     ]
    }
   ],
   "source": [
    "# wrong: persistent=False: only get derivation for the 1st variable\n",
    "x = tf.Variable([2.0])\n",
    "y = tf.Variable([3.0])\n",
    "\n",
    "with tf.GradientTape(persistent=False, watch_accessed_variables=True) as tape:\n",
    "    f = x ** 2\n",
    "    h = y ** 3\n",
    "\n",
    "# Print gradient output\n",
    "print('The gradient df/dx where f = (x ^ 2):\\n', tape.gradient(f, x))\n",
    "print('The gradient dh/dy where h = (y ^ 3):\\n', tape.gradient(h, y))"
   ]
  },
  {
   "cell_type": "code",
   "execution_count": 25,
   "id": "cbf530ca",
   "metadata": {},
   "outputs": [
    {
     "name": "stdout",
     "output_type": "stream",
     "text": [
      "The gradient df/dx where f = (x ^ 2):\n",
      " tf.Tensor([4.], shape=(1,), dtype=float32)\n",
      "The gradient dh/dy where h = (y ^ 3):\n",
      " tf.Tensor([27.], shape=(1,), dtype=float32)\n"
     ]
    }
   ],
   "source": [
    "# persistent=True: could get derivation for all variables\n",
    "# watch_accessed_variables=True: trace all vars\n",
    "x = tf.Variable([2.0])\n",
    "y = tf.Variable([3.0])\n",
    "\n",
    "with tf.GradientTape(persistent=True, watch_accessed_variables=True) as tape:\n",
    "    f = x ** 2\n",
    "    h = y ** 3\n",
    "\n",
    "# Print gradient output\n",
    "print('The gradient df/dx where f = (x ^ 2):\\n', tape.gradient(f, x))\n",
    "print('The gradient dh/dy where h = (y ^ 3):\\n', tape.gradient(h, y))"
   ]
  },
  {
   "cell_type": "code",
   "execution_count": 26,
   "id": "d467505f",
   "metadata": {},
   "outputs": [
    {
     "name": "stdout",
     "output_type": "stream",
     "text": [
      "The gradient df/dx where f = (x ^ 2):\n",
      " None\n",
      "The gradient dh/dy where h = (y ^ 3):\n",
      " tf.Tensor([27.], shape=(1,), dtype=float32)\n"
     ]
    }
   ],
   "source": [
    "# watch_accessed_variables=False: trace the var(s) that assigns to tape.watch()\n",
    "x = tf.Variable([2.0])\n",
    "y = tf.Variable([3.0])\n",
    "\n",
    "with tf.GradientTape(persistent=True, watch_accessed_variables=False) as tape:\n",
    "    tape.watch(y)\n",
    "    f = x ** 2\n",
    "    h = y ** 3\n",
    "\n",
    "# Print gradient output\n",
    "print('The gradient df/dx where f = (x ^ 2):\\n', tape.gradient(f, x))\n",
    "print('The gradient dh/dy where h = (y ^ 3):\\n', tape.gradient(h, y))"
   ]
  },
  {
   "cell_type": "code",
   "execution_count": 27,
   "id": "9b12e98e",
   "metadata": {},
   "outputs": [
    {
     "name": "stdout",
     "output_type": "stream",
     "text": [
      "The gradient df/dx and df/dy where f = (x ^ 2 * y + y + 2):\n",
      " [<tf.Tensor: shape=(1,), dtype=float32, numpy=array([12.], dtype=float32)>, <tf.Tensor: shape=(1,), dtype=float32, numpy=array([5.], dtype=float32)>]\n"
     ]
    }
   ],
   "source": [
    "# calculate multi-var's derivation\n",
    "x = tf.Variable([2.0])\n",
    "y = tf.Variable([3.0])\n",
    "\n",
    "with tf.GradientTape(persistent=True, watch_accessed_variables=True) as tape:\n",
    "    f = x ** 2 * y + y + 2\n",
    "\n",
    "# Print gradient output\n",
    "print('The gradient df/dx and df/dy where f = (x ^ 2 * y + y + 2):\\n', tape.gradient(f, [x, y]))"
   ]
  },
  {
   "cell_type": "markdown",
   "id": "502e489e",
   "metadata": {},
   "source": [
    "### Linear Regression in Tensorflow"
   ]
  },
  {
   "cell_type": "code",
   "execution_count": 28,
   "id": "b61cd6d3",
   "metadata": {},
   "outputs": [],
   "source": [
    "import matplotlib.pyplot as plt\n",
    "from sklearn.linear_model import LinearRegression\n",
    "from sklearn.metrics import mean_squared_error as mse\n",
    "from sklearn.metrics import r2_score\n",
    "from sklearn.preprocessing import StandardScaler\n",
    "from sklearn.preprocessing import OneHotEncoder\n",
    "from sklearn.model_selection import train_test_split"
   ]
  },
  {
   "cell_type": "code",
   "execution_count": 29,
   "id": "c50125f9",
   "metadata": {},
   "outputs": [],
   "source": [
    "def f(X):\n",
    "    \"\"\"\n",
    "    input: x\n",
    "    output: y = 0.7x - 42(56)\n",
    "    \"\"\"\n",
    "    return 0.7 * X - 42"
   ]
  },
  {
   "cell_type": "code",
   "execution_count": 30,
   "id": "1c7aecbf",
   "metadata": {},
   "outputs": [],
   "source": [
    "# populate data\n",
    "N = 100\n",
    "noise_level = 0.8\n",
    "trainX = np.linspace(165, 190, N)\n",
    "# np.random.shuffle(trainX)\n",
    "# print(trainX)\n",
    "trainY = f(trainX) + np.random.randn(N) * noise_level\n",
    "# print(trainY)\n",
    "learning_rate = 0.1\n",
    "training_epochs = 300\n",
    "display_step = 50"
   ]
  },
  {
   "cell_type": "code",
   "execution_count": 31,
   "id": "20cd2ca7",
   "metadata": {},
   "outputs": [
    {
     "data": {
      "text/plain": [
       "<matplotlib.legend.Legend at 0x7fd3a3d55df0>"
      ]
     },
     "execution_count": 31,
     "metadata": {},
     "output_type": "execute_result"
    },
    {
     "data": {
      "image/png": "[encoded data removed]",
      "text/plain": [
       "<Figure size 432x288 with 1 Axes>"
      ]
     },
     "metadata": {
      "needs_background": "light"
     },
     "output_type": "display_data"
    }
   ],
   "source": [
    "plt.scatter(trainX, trainY, label='Original data')\n",
    "plt.legend()"
   ]
  },
  {
   "cell_type": "code",
   "execution_count": 32,
   "id": "02f6b6ce",
   "metadata": {},
   "outputs": [],
   "source": [
    "def lr_forward(x, w, b):\n",
    "    return x * w + b\n",
    "\n",
    "# use MSE (mean square error)\n",
    "def loss_function(y, y_hat):\n",
    "    return tf.reduce_mean(tf.square(y - y_hat))\n",
    "\n",
    "def data_loader(x, y, batch_size, shuffle=True):\n",
    "    ind = list(range(len(x)))\n",
    "    if shuffle == True:\n",
    "        np.random.shuffle(ind)\n",
    "    for i in range(0, len(ind), batch_size):\n",
    "        idx = np.array(ind[i:min(i + batch_size, len(x))])\n",
    "        yield x[idx], y[idx]"
   ]
  },
  {
   "cell_type": "code",
   "execution_count": 33,
   "id": "1c030d85",
   "metadata": {},
   "outputs": [],
   "source": [
    "# init param\n",
    "w = tf.Variable(np.random.randn())\n",
    "b = tf.Variable(np.random.randn())\n",
    "batch_size = 32\n",
    "\n",
    "trainX = np.reshape(trainX, (-1, 1))\n",
    "trainY = np.reshape(trainY, (-1, 1))\n",
    "trainX, testX, trainY, testY = train_test_split(trainX,\n",
    "                                                trainY,\n",
    "                                                test_size=0.2,\n",
    "                                                random_state=1)"
   ]
  },
  {
   "cell_type": "code",
   "execution_count": 34,
   "id": "6f548ebb",
   "metadata": {},
   "outputs": [],
   "source": [
    "# data process\n",
    "x_scaler = StandardScaler()\n",
    "y_scaler = StandardScaler()\n",
    "# trainX = (trainX - trainX.min()) / (trainX.max() - trainX.min())\n",
    "# trainY = (trainY - trainY.min()) / (trainY.max() - trainY.min())\n",
    "\n",
    "trainX = x_scaler.fit_transform(trainX)\n",
    "trainY = y_scaler.fit_transform(trainY)\n"
   ]
  },
  {
   "cell_type": "code",
   "execution_count": 35,
   "id": "f67e031f",
   "metadata": {},
   "outputs": [
    {
     "data": {
      "text/plain": [
       "[<matplotlib.lines.Line2D at 0x7fd3685db100>]"
      ]
     },
     "execution_count": 35,
     "metadata": {},
     "output_type": "execute_result"
    },
    {
     "data": {
      "image/png": "[encoded data removed]",
      "text/plain": [
       "<Figure size 432x288 with 1 Axes>"
      ]
     },
     "metadata": {
      "needs_background": "light"
     },
     "output_type": "display_data"
    }
   ],
   "source": [
    "# observe init fit line\n",
    "plt.scatter(trainX, trainY, label='Original Data')\n",
    "plt.plot(trainX, lr_forward(trainX, w, b), c='y', label='Fitted Line')"
   ]
  },
  {
   "cell_type": "code",
   "execution_count": 36,
   "id": "7c95fc0c",
   "metadata": {},
   "outputs": [
    {
     "name": "stdout",
     "output_type": "stream",
     "text": [
      "epoch 1, loss 0.154033\n",
      "epoch 2, loss 0.054151\n",
      "epoch 3, loss 0.029142\n",
      "epoch 4, loss 0.022642\n",
      "epoch 5, loss 0.020482\n",
      "epoch 6, loss 0.019687\n",
      "epoch 7, loss 0.019447\n",
      "epoch 8, loss 0.019484\n",
      "epoch 9, loss 0.019495\n",
      "epoch 10, loss 0.019491\n",
      "epoch 11, loss 0.019466\n",
      "epoch 12, loss 0.019456\n",
      "epoch 13, loss 0.019550\n",
      "epoch 14, loss 0.019657\n",
      "epoch 15, loss 0.019529\n",
      "epoch 16, loss 0.019452\n",
      "epoch 17, loss 0.019458\n",
      "epoch 18, loss 0.019475\n",
      "epoch 19, loss 0.019490\n",
      "epoch 20, loss 0.019537\n",
      "epoch 21, loss 0.019475\n",
      "epoch 22, loss 0.019442\n",
      "epoch 23, loss 0.019444\n",
      "epoch 24, loss 0.019456\n",
      "epoch 25, loss 0.019473\n",
      "epoch 26, loss 0.019444\n",
      "epoch 27, loss 0.019445\n",
      "epoch 28, loss 0.019455\n",
      "epoch 29, loss 0.019530\n",
      "epoch 30, loss 0.019525\n",
      "epoch 31, loss 0.019463\n",
      "epoch 32, loss 0.019505\n",
      "epoch 33, loss 0.019490\n",
      "epoch 34, loss 0.019461\n",
      "epoch 35, loss 0.019470\n",
      "epoch 36, loss 0.019490\n",
      "epoch 37, loss 0.019441\n",
      "epoch 38, loss 0.019486\n",
      "epoch 39, loss 0.019534\n",
      "epoch 40, loss 0.019506\n",
      "epoch 41, loss 0.019544\n",
      "epoch 42, loss 0.019547\n",
      "epoch 43, loss 0.019463\n",
      "epoch 44, loss 0.019466\n",
      "epoch 45, loss 0.019545\n",
      "epoch 46, loss 0.019463\n",
      "epoch 47, loss 0.019468\n",
      "epoch 48, loss 0.019557\n",
      "epoch 49, loss 0.019442\n",
      "epoch 50, loss 0.019451\n",
      "epoch 51, loss 0.019502\n",
      "epoch 52, loss 0.019452\n",
      "epoch 53, loss 0.019579\n",
      "epoch 54, loss 0.019489\n",
      "epoch 55, loss 0.019454\n",
      "epoch 56, loss 0.019455\n",
      "epoch 57, loss 0.019442\n",
      "epoch 58, loss 0.019449\n",
      "epoch 59, loss 0.019482\n",
      "epoch 60, loss 0.019454\n",
      "epoch 61, loss 0.019453\n",
      "epoch 62, loss 0.019460\n",
      "epoch 63, loss 0.019469\n",
      "epoch 64, loss 0.019447\n",
      "epoch 65, loss 0.019486\n",
      "epoch 66, loss 0.019444\n",
      "epoch 67, loss 0.019458\n",
      "epoch 68, loss 0.019508\n",
      "epoch 69, loss 0.019607\n",
      "epoch 70, loss 0.019468\n",
      "epoch 71, loss 0.019444\n",
      "epoch 72, loss 0.019505\n",
      "epoch 73, loss 0.019521\n",
      "epoch 74, loss 0.019565\n",
      "epoch 75, loss 0.019536\n",
      "epoch 76, loss 0.019490\n",
      "epoch 77, loss 0.019454\n",
      "epoch 78, loss 0.019452\n",
      "epoch 79, loss 0.019453\n",
      "epoch 80, loss 0.019466\n",
      "epoch 81, loss 0.019446\n",
      "epoch 82, loss 0.019514\n",
      "epoch 83, loss 0.019476\n",
      "epoch 84, loss 0.019449\n",
      "epoch 85, loss 0.019470\n",
      "epoch 86, loss 0.019670\n",
      "epoch 87, loss 0.019460\n",
      "epoch 88, loss 0.019441\n",
      "epoch 89, loss 0.019462\n",
      "epoch 90, loss 0.019458\n",
      "epoch 91, loss 0.019502\n",
      "epoch 92, loss 0.019485\n",
      "epoch 93, loss 0.019484\n",
      "epoch 94, loss 0.019491\n",
      "epoch 95, loss 0.019628\n",
      "epoch 96, loss 0.019548\n",
      "epoch 97, loss 0.019566\n",
      "epoch 98, loss 0.019442\n",
      "epoch 99, loss 0.019497\n",
      "epoch 100, loss 0.019453\n",
      "epoch 101, loss 0.019452\n",
      "epoch 102, loss 0.019455\n",
      "epoch 103, loss 0.019457\n",
      "epoch 104, loss 0.019447\n",
      "epoch 105, loss 0.019459\n",
      "epoch 106, loss 0.019455\n",
      "epoch 107, loss 0.019454\n",
      "epoch 108, loss 0.019458\n",
      "epoch 109, loss 0.019509\n",
      "epoch 110, loss 0.019443\n",
      "epoch 111, loss 0.019506\n",
      "epoch 112, loss 0.019496\n",
      "epoch 113, loss 0.019468\n",
      "epoch 114, loss 0.019530\n",
      "epoch 115, loss 0.019445\n",
      "epoch 116, loss 0.019445\n",
      "epoch 117, loss 0.019490\n",
      "epoch 118, loss 0.019446\n",
      "epoch 119, loss 0.019455\n",
      "epoch 120, loss 0.019453\n",
      "epoch 121, loss 0.019462\n",
      "epoch 122, loss 0.019464\n",
      "epoch 123, loss 0.019500\n",
      "epoch 124, loss 0.019446\n",
      "epoch 125, loss 0.019448\n",
      "epoch 126, loss 0.019477\n",
      "epoch 127, loss 0.019443\n",
      "epoch 128, loss 0.019451\n",
      "epoch 129, loss 0.019452\n",
      "epoch 130, loss 0.019498\n",
      "epoch 131, loss 0.019472\n",
      "epoch 132, loss 0.019460\n",
      "epoch 133, loss 0.019485\n",
      "epoch 134, loss 0.019450\n",
      "epoch 135, loss 0.019471\n",
      "epoch 136, loss 0.019502\n",
      "epoch 137, loss 0.019507\n",
      "epoch 138, loss 0.019451\n",
      "epoch 139, loss 0.019454\n",
      "epoch 140, loss 0.019567\n",
      "epoch 141, loss 0.019545\n",
      "epoch 142, loss 0.019543\n",
      "epoch 143, loss 0.019578\n",
      "epoch 144, loss 0.019512\n",
      "epoch 145, loss 0.019447\n",
      "epoch 146, loss 0.019477\n",
      "epoch 147, loss 0.019448\n",
      "epoch 148, loss 0.019480\n",
      "epoch 149, loss 0.019473\n",
      "epoch 150, loss 0.019458\n",
      "epoch 151, loss 0.019591\n",
      "epoch 152, loss 0.019554\n",
      "epoch 153, loss 0.019582\n",
      "epoch 154, loss 0.019548\n",
      "epoch 155, loss 0.019488\n",
      "epoch 156, loss 0.019454\n",
      "epoch 157, loss 0.019452\n",
      "epoch 158, loss 0.019474\n",
      "epoch 159, loss 0.019520\n",
      "epoch 160, loss 0.019476\n",
      "epoch 161, loss 0.019520\n",
      "epoch 162, loss 0.019506\n",
      "epoch 163, loss 0.019450\n",
      "epoch 164, loss 0.019496\n",
      "epoch 165, loss 0.019465\n",
      "epoch 166, loss 0.019447\n",
      "epoch 167, loss 0.019449\n",
      "epoch 168, loss 0.019452\n",
      "epoch 169, loss 0.019451\n",
      "epoch 170, loss 0.019513\n",
      "epoch 171, loss 0.019544\n",
      "epoch 172, loss 0.019493\n",
      "epoch 173, loss 0.019472\n",
      "epoch 174, loss 0.019462\n",
      "epoch 175, loss 0.019498\n",
      "epoch 176, loss 0.019443\n",
      "epoch 177, loss 0.019510\n",
      "epoch 178, loss 0.019462\n",
      "epoch 179, loss 0.019540\n",
      "epoch 180, loss 0.019456\n",
      "epoch 181, loss 0.019448\n",
      "epoch 182, loss 0.019549\n",
      "epoch 183, loss 0.019460\n",
      "epoch 184, loss 0.019517\n",
      "epoch 185, loss 0.019443\n",
      "epoch 186, loss 0.019451\n",
      "epoch 187, loss 0.019445\n",
      "epoch 188, loss 0.019442\n",
      "epoch 189, loss 0.019444\n",
      "epoch 190, loss 0.019460\n",
      "epoch 191, loss 0.019458\n",
      "epoch 192, loss 0.019449\n",
      "epoch 193, loss 0.019489\n",
      "epoch 194, loss 0.019494\n",
      "epoch 195, loss 0.019474\n",
      "epoch 196, loss 0.019518\n",
      "epoch 197, loss 0.019463\n",
      "epoch 198, loss 0.019475\n",
      "epoch 199, loss 0.019534\n",
      "epoch 200, loss 0.019509\n",
      "epoch 201, loss 0.019463\n",
      "epoch 202, loss 0.019464\n",
      "epoch 203, loss 0.019551\n",
      "epoch 204, loss 0.019445\n",
      "epoch 205, loss 0.019474\n",
      "epoch 206, loss 0.019540\n",
      "epoch 207, loss 0.019615\n",
      "epoch 208, loss 0.019525\n",
      "epoch 209, loss 0.019523\n",
      "epoch 210, loss 0.019446\n",
      "epoch 211, loss 0.019468\n",
      "epoch 212, loss 0.019513\n",
      "epoch 213, loss 0.019457\n",
      "epoch 214, loss 0.019474\n",
      "epoch 215, loss 0.019444\n",
      "epoch 216, loss 0.019467\n",
      "epoch 217, loss 0.019453\n",
      "epoch 218, loss 0.019515\n",
      "epoch 219, loss 0.019515\n",
      "epoch 220, loss 0.019448\n",
      "epoch 221, loss 0.019446\n",
      "epoch 222, loss 0.019449\n",
      "epoch 223, loss 0.019446\n",
      "epoch 224, loss 0.019488\n",
      "epoch 225, loss 0.019467\n",
      "epoch 226, loss 0.019487\n",
      "epoch 227, loss 0.019471\n",
      "epoch 228, loss 0.019489\n",
      "epoch 229, loss 0.019475\n",
      "epoch 230, loss 0.019484\n",
      "epoch 231, loss 0.019442\n",
      "epoch 232, loss 0.019533\n",
      "epoch 233, loss 0.019498\n",
      "epoch 234, loss 0.019443\n",
      "epoch 235, loss 0.019570\n",
      "epoch 236, loss 0.019458\n",
      "epoch 237, loss 0.019444\n",
      "epoch 238, loss 0.019483\n",
      "epoch 239, loss 0.019553\n",
      "epoch 240, loss 0.019494\n",
      "epoch 241, loss 0.019480\n",
      "epoch 242, loss 0.019459\n",
      "epoch 243, loss 0.019469\n",
      "epoch 244, loss 0.019491\n",
      "epoch 245, loss 0.019456\n",
      "epoch 246, loss 0.019518\n",
      "epoch 247, loss 0.019454\n",
      "epoch 248, loss 0.019521\n",
      "epoch 249, loss 0.019532\n",
      "epoch 250, loss 0.019445\n",
      "epoch 251, loss 0.019482\n",
      "epoch 252, loss 0.019460\n",
      "epoch 253, loss 0.019498\n",
      "epoch 254, loss 0.019466\n",
      "epoch 255, loss 0.019478\n",
      "epoch 256, loss 0.019460\n",
      "epoch 257, loss 0.019450\n",
      "epoch 258, loss 0.019449\n",
      "epoch 259, loss 0.019451\n",
      "epoch 260, loss 0.019553\n",
      "epoch 261, loss 0.019442\n",
      "epoch 262, loss 0.019479\n",
      "epoch 263, loss 0.019453\n",
      "epoch 264, loss 0.019454\n",
      "epoch 265, loss 0.019456\n",
      "epoch 266, loss 0.019557\n",
      "epoch 267, loss 0.019443\n",
      "epoch 268, loss 0.019442\n",
      "epoch 269, loss 0.019445\n",
      "epoch 270, loss 0.019473\n",
      "epoch 271, loss 0.019451\n",
      "epoch 272, loss 0.019474\n",
      "epoch 273, loss 0.019471\n",
      "epoch 274, loss 0.019453\n",
      "epoch 275, loss 0.019564\n",
      "epoch 276, loss 0.019441\n",
      "epoch 277, loss 0.019474\n",
      "epoch 278, loss 0.019588\n",
      "epoch 279, loss 0.019548\n",
      "epoch 280, loss 0.019494\n",
      "epoch 281, loss 0.019541\n",
      "epoch 282, loss 0.019519\n",
      "epoch 283, loss 0.019519\n",
      "epoch 284, loss 0.019570\n",
      "epoch 285, loss 0.019442\n",
      "epoch 286, loss 0.019489\n",
      "epoch 287, loss 0.019502\n",
      "epoch 288, loss 0.019448\n",
      "epoch 289, loss 0.019470\n",
      "epoch 290, loss 0.019478\n",
      "epoch 291, loss 0.019474\n",
      "epoch 292, loss 0.019481\n",
      "epoch 293, loss 0.019456\n",
      "epoch 294, loss 0.019472\n",
      "epoch 295, loss 0.019469\n",
      "epoch 296, loss 0.019477\n",
      "epoch 297, loss 0.019470\n",
      "epoch 298, loss 0.019456\n",
      "epoch 299, loss 0.019467\n",
      "epoch 300, loss 0.019473\n"
     ]
    }
   ],
   "source": [
    "# start training\n",
    "for i in range(training_epochs):\n",
    "    for X, y in data_loader(trainX, trainY, batch_size):\n",
    "        with tf.GradientTape(persistent=True, watch_accessed_variables=True) as tape:        \n",
    "            # calculate the loss in this iteration\n",
    "            loss = loss_function(y, lr_forward(X, w, b))\n",
    "            \n",
    "        # calculate gradient, update param\n",
    "        delta_w, delta_b = tape.gradient(loss, [w, b])\n",
    "        w.assign_sub(learning_rate * delta_w)\n",
    "        b.assign_sub(learning_rate * delta_b)\n",
    "    \n",
    "    # calculate the total loss of this iteration\n",
    "    train_loss = loss_function(trainY, lr_forward(trainX, w, b))\n",
    "    print('epoch %d, loss %f' % (i + 1, tf.reduce_mean(train_loss)))        "
   ]
  },
  {
   "cell_type": "code",
   "execution_count": 37,
   "id": "890e2a68",
   "metadata": {},
   "outputs": [],
   "source": [
    "processed_x = x_scaler.transform(np.reshape(testX, (-1, 1)))\n",
    "predicted_y = y_scaler.inverse_transform(lr_forward(processed_x, w, b))"
   ]
  },
  {
   "cell_type": "code",
   "execution_count": 38,
   "id": "980deb5f",
   "metadata": {},
   "outputs": [
    {
     "data": {
      "text/plain": [
       "0.9813898422929066"
      ]
     },
     "execution_count": 38,
     "metadata": {},
     "output_type": "execute_result"
    }
   ],
   "source": [
    "r2_score(testY, predicted_y)"
   ]
  },
  {
   "cell_type": "code",
   "execution_count": 39,
   "id": "b4cd90bd",
   "metadata": {},
   "outputs": [
    {
     "data": {
      "text/plain": [
       "<matplotlib.legend.Legend at 0x7fd3a3edca00>"
      ]
     },
     "execution_count": 39,
     "metadata": {},
     "output_type": "execute_result"
    },
    {
     "data": {
      "image/png": "[encoded data removed]",
      "text/plain": [
       "<Figure size 432x288 with 1 Axes>"
      ]
     },
     "metadata": {
      "needs_background": "light"
     },
     "output_type": "display_data"
    }
   ],
   "source": [
    "plt.scatter(trainX, trainY, label='Original Data')\n",
    "plt.plot(trainX, lr_forward(trainX, w, b), c='y', label='Fitted Line')\n",
    "plt.legend()"
   ]
  },
  {
   "cell_type": "code",
   "execution_count": 40,
   "id": "df4c15b2",
   "metadata": {},
   "outputs": [
    {
     "name": "stdout",
     "output_type": "stream",
     "text": [
      "<tf.Variable 'Variable:0' shape=() dtype=float32, numpy=0.99099463>\n",
      "<tf.Variable 'Variable:0' shape=() dtype=float32, numpy=-0.0056371493>\n"
     ]
    }
   ],
   "source": [
    "print(w)\n",
    "print(b)"
   ]
  },
  {
   "cell_type": "code",
   "execution_count": 41,
   "id": "bddc06ec",
   "metadata": {},
   "outputs": [
    {
     "name": "stdout",
     "output_type": "stream",
     "text": [
      "tf.Tensor([0.71529025], shape=(1,), dtype=float32)\n",
      "tf.Tensor([-44.8295], shape=(1,), dtype=float32)\n"
     ]
    }
   ],
   "source": [
    "# restore w_true & b_true\n",
    "print(w * y_scaler.scale_ / x_scaler.scale_)\n",
    "print(- w * y_scaler.scale_ / x_scaler.scale_ * x_scaler.mean_ + y_scaler.scale_ * b + y_scaler.mean_)"
   ]
  },
  {
   "cell_type": "markdown",
   "id": "c3720466",
   "metadata": {},
   "source": [
    "### Keras API version"
   ]
  },
  {
   "cell_type": "code",
   "execution_count": 42,
   "id": "fb6713cc",
   "metadata": {},
   "outputs": [
    {
     "name": "stdout",
     "output_type": "stream",
     "text": [
      "Model: \"sequential\"\n",
      "_________________________________________________________________\n",
      "Layer (type)                 Output Shape              Param #   \n",
      "=================================================================\n",
      "dense (Dense)                (None, 1)                 2         \n",
      "=================================================================\n",
      "Total params: 2\n",
      "Trainable params: 2\n",
      "Non-trainable params: 0\n",
      "_________________________________________________________________\n"
     ]
    }
   ],
   "source": [
    "# Use Keras to build the linear model\n",
    "model = tf.keras.Sequential()\n",
    "model.add(tf.keras.layers.Dense(1, input_dim=1))\n",
    "model.summary()"
   ]
  },
  {
   "cell_type": "code",
   "execution_count": 43,
   "id": "c795b14a",
   "metadata": {},
   "outputs": [
    {
     "name": "stdout",
     "output_type": "stream",
     "text": [
      "Epoch 1/300\n",
      "8/8 [==============================] - 0s 814us/step - loss: 0.1814 - mse: 0.1814\n",
      "Epoch 2/300\n",
      "8/8 [==============================] - 0s 783us/step - loss: 0.1369 - mse: 0.1369\n",
      "Epoch 3/300\n",
      "8/8 [==============================] - 0s 807us/step - loss: 0.1044 - mse: 0.1044\n",
      "Epoch 4/300\n",
      "8/8 [==============================] - 0s 889us/step - loss: 0.0808 - mse: 0.0808\n",
      "Epoch 5/300\n",
      "8/8 [==============================] - 0s 910us/step - loss: 0.0640 - mse: 0.0640\n",
      "Epoch 6/300\n",
      "8/8 [==============================] - 0s 761us/step - loss: 0.0516 - mse: 0.0516\n",
      "Epoch 7/300\n",
      "8/8 [==============================] - 0s 1ms/step - loss: 0.0428 - mse: 0.0428\n",
      "Epoch 8/300\n",
      "8/8 [==============================] - 0s 789us/step - loss: 0.0362 - mse: 0.0362\n",
      "Epoch 9/300\n",
      "8/8 [==============================] - 0s 838us/step - loss: 0.0317 - mse: 0.0317\n",
      "Epoch 10/300\n",
      "8/8 [==============================] - 0s 2ms/step - loss: 0.0283 - mse: 0.0283\n",
      "Epoch 11/300\n",
      "8/8 [==============================] - 0s 4ms/step - loss: 0.0259 - mse: 0.0259\n",
      "Epoch 12/300\n",
      "8/8 [==============================] - 0s 2ms/step - loss: 0.0242 - mse: 0.0242\n",
      "Epoch 13/300\n",
      "8/8 [==============================] - 0s 1ms/step - loss: 0.0228 - mse: 0.0228\n",
      "Epoch 14/300\n",
      "8/8 [==============================] - 0s 1ms/step - loss: 0.0219 - mse: 0.0219\n",
      "Epoch 15/300\n",
      "8/8 [==============================] - 0s 1ms/step - loss: 0.0212 - mse: 0.0212\n",
      "Epoch 16/300\n",
      "8/8 [==============================] - 0s 1ms/step - loss: 0.0208 - mse: 0.0208\n",
      "Epoch 17/300\n",
      "8/8 [==============================] - 0s 1ms/step - loss: 0.0204 - mse: 0.0204\n",
      "Epoch 18/300\n",
      "8/8 [==============================] - 0s 1ms/step - loss: 0.0202 - mse: 0.0202\n",
      "Epoch 19/300\n",
      "8/8 [==============================] - 0s 918us/step - loss: 0.0200 - mse: 0.0200\n",
      "Epoch 20/300\n",
      "8/8 [==============================] - 0s 913us/step - loss: 0.0198 - mse: 0.0198\n",
      "Epoch 21/300\n",
      "8/8 [==============================] - 0s 961us/step - loss: 0.0197 - mse: 0.0197\n",
      "Epoch 22/300\n",
      "8/8 [==============================] - 0s 1ms/step - loss: 0.0197 - mse: 0.0197\n",
      "Epoch 23/300\n",
      "8/8 [==============================] - 0s 1ms/step - loss: 0.0197 - mse: 0.0197\n",
      "Epoch 24/300\n",
      "8/8 [==============================] - 0s 906us/step - loss: 0.0196 - mse: 0.0196\n",
      "Epoch 25/300\n",
      "8/8 [==============================] - 0s 846us/step - loss: 0.0195 - mse: 0.0195\n",
      "Epoch 26/300\n",
      "8/8 [==============================] - 0s 1ms/step - loss: 0.0196 - mse: 0.0196\n",
      "Epoch 27/300\n",
      "8/8 [==============================] - 0s 947us/step - loss: 0.0196 - mse: 0.0196\n",
      "Epoch 28/300\n",
      "8/8 [==============================] - 0s 985us/step - loss: 0.0195 - mse: 0.0195\n",
      "Epoch 29/300\n",
      "8/8 [==============================] - 0s 2ms/step - loss: 0.0195 - mse: 0.0195\n",
      "Epoch 30/300\n",
      "8/8 [==============================] - 0s 4ms/step - loss: 0.0195 - mse: 0.0195\n",
      "Epoch 31/300\n",
      "8/8 [==============================] - 0s 1ms/step - loss: 0.0195 - mse: 0.0195\n",
      "Epoch 32/300\n",
      "8/8 [==============================] - 0s 1ms/step - loss: 0.0195 - mse: 0.0195\n",
      "Epoch 33/300\n",
      "8/8 [==============================] - 0s 1ms/step - loss: 0.0195 - mse: 0.0195\n",
      "Epoch 34/300\n",
      "8/8 [==============================] - 0s 896us/step - loss: 0.0195 - mse: 0.0195\n",
      "Epoch 35/300\n",
      "8/8 [==============================] - 0s 857us/step - loss: 0.0195 - mse: 0.0195\n",
      "Epoch 36/300\n",
      "8/8 [==============================] - 0s 1ms/step - loss: 0.0195 - mse: 0.0195\n",
      "Epoch 37/300\n",
      "8/8 [==============================] - 0s 939us/step - loss: 0.0195 - mse: 0.0195\n",
      "Epoch 38/300\n",
      "8/8 [==============================] - 0s 924us/step - loss: 0.0195 - mse: 0.0195\n",
      "Epoch 39/300\n",
      "8/8 [==============================] - 0s 938us/step - loss: 0.0195 - mse: 0.0195\n",
      "Epoch 40/300\n",
      "8/8 [==============================] - 0s 941us/step - loss: 0.0195 - mse: 0.0195\n",
      "Epoch 41/300\n",
      "8/8 [==============================] - 0s 871us/step - loss: 0.0195 - mse: 0.0195\n",
      "Epoch 42/300\n",
      "8/8 [==============================] - 0s 875us/step - loss: 0.0195 - mse: 0.0195\n",
      "Epoch 43/300\n",
      "8/8 [==============================] - 0s 1ms/step - loss: 0.0195 - mse: 0.0195\n",
      "Epoch 44/300\n",
      "8/8 [==============================] - 0s 785us/step - loss: 0.0195 - mse: 0.0195\n",
      "Epoch 45/300\n",
      "8/8 [==============================] - 0s 784us/step - loss: 0.0195 - mse: 0.0195\n",
      "Epoch 46/300\n",
      "8/8 [==============================] - 0s 747us/step - loss: 0.0195 - mse: 0.0195\n",
      "Epoch 47/300\n",
      "8/8 [==============================] - 0s 903us/step - loss: 0.0195 - mse: 0.0195\n",
      "Epoch 48/300\n",
      "8/8 [==============================] - 0s 774us/step - loss: 0.0196 - mse: 0.0196\n",
      "Epoch 49/300\n",
      "8/8 [==============================] - 0s 987us/step - loss: 0.0195 - mse: 0.0195\n",
      "Epoch 50/300\n",
      "8/8 [==============================] - 0s 1ms/step - loss: 0.0195 - mse: 0.0195\n",
      "Epoch 51/300\n",
      "8/8 [==============================] - 0s 935us/step - loss: 0.0195 - mse: 0.0195\n",
      "Epoch 52/300\n",
      "8/8 [==============================] - 0s 791us/step - loss: 0.0195 - mse: 0.0195\n",
      "Epoch 53/300\n",
      "8/8 [==============================] - 0s 999us/step - loss: 0.0195 - mse: 0.0195\n",
      "Epoch 54/300\n",
      "8/8 [==============================] - 0s 891us/step - loss: 0.0195 - mse: 0.0195\n",
      "Epoch 55/300\n",
      "8/8 [==============================] - 0s 756us/step - loss: 0.0195 - mse: 0.0195\n",
      "Epoch 56/300\n",
      "8/8 [==============================] - 0s 984us/step - loss: 0.0195 - mse: 0.0195\n",
      "Epoch 57/300\n",
      "8/8 [==============================] - 0s 826us/step - loss: 0.0195 - mse: 0.0195\n",
      "Epoch 58/300\n",
      "8/8 [==============================] - 0s 783us/step - loss: 0.0196 - mse: 0.0196\n",
      "Epoch 59/300\n",
      "8/8 [==============================] - 0s 1ms/step - loss: 0.0195 - mse: 0.0195\n",
      "Epoch 60/300\n",
      "8/8 [==============================] - 0s 993us/step - loss: 0.0195 - mse: 0.0195\n",
      "Epoch 61/300\n",
      "8/8 [==============================] - 0s 924us/step - loss: 0.0195 - mse: 0.0195\n",
      "Epoch 62/300\n",
      "8/8 [==============================] - 0s 980us/step - loss: 0.0195 - mse: 0.0195\n",
      "Epoch 63/300\n",
      "8/8 [==============================] - 0s 901us/step - loss: 0.0195 - mse: 0.0195\n",
      "Epoch 64/300\n",
      "8/8 [==============================] - 0s 877us/step - loss: 0.0195 - mse: 0.0195\n",
      "Epoch 65/300\n",
      "8/8 [==============================] - 0s 1ms/step - loss: 0.0195 - mse: 0.0195\n",
      "Epoch 66/300\n",
      "8/8 [==============================] - 0s 930us/step - loss: 0.0195 - mse: 0.0195\n",
      "Epoch 67/300\n",
      "8/8 [==============================] - 0s 920us/step - loss: 0.0195 - mse: 0.0195\n",
      "Epoch 68/300\n",
      "8/8 [==============================] - 0s 885us/step - loss: 0.0195 - mse: 0.0195\n",
      "Epoch 69/300\n",
      "8/8 [==============================] - 0s 849us/step - loss: 0.0195 - mse: 0.0195\n",
      "Epoch 70/300\n",
      "8/8 [==============================] - 0s 1ms/step - loss: 0.0195 - mse: 0.0195\n",
      "Epoch 71/300\n",
      "8/8 [==============================] - 0s 907us/step - loss: 0.0195 - mse: 0.0195\n",
      "Epoch 72/300\n",
      "8/8 [==============================] - 0s 890us/step - loss: 0.0195 - mse: 0.0195\n",
      "Epoch 73/300\n",
      "8/8 [==============================] - 0s 916us/step - loss: 0.0195 - mse: 0.0195\n",
      "Epoch 74/300\n",
      "8/8 [==============================] - 0s 838us/step - loss: 0.0195 - mse: 0.0195\n",
      "Epoch 75/300\n",
      "8/8 [==============================] - 0s 872us/step - loss: 0.0195 - mse: 0.0195\n",
      "Epoch 76/300\n",
      "8/8 [==============================] - 0s 880us/step - loss: 0.0195 - mse: 0.0195\n",
      "Epoch 77/300\n",
      "8/8 [==============================] - 0s 825us/step - loss: 0.0195 - mse: 0.0195\n",
      "Epoch 78/300\n",
      "8/8 [==============================] - 0s 856us/step - loss: 0.0195 - mse: 0.0195\n",
      "Epoch 79/300\n",
      "8/8 [==============================] - 0s 910us/step - loss: 0.0195 - mse: 0.0195\n",
      "Epoch 80/300\n",
      "8/8 [==============================] - 0s 752us/step - loss: 0.0195 - mse: 0.0195\n",
      "Epoch 81/300\n",
      "8/8 [==============================] - 0s 931us/step - loss: 0.0195 - mse: 0.0195\n",
      "Epoch 82/300\n",
      "8/8 [==============================] - 0s 892us/step - loss: 0.0195 - mse: 0.0195\n",
      "Epoch 83/300\n",
      "8/8 [==============================] - 0s 893us/step - loss: 0.0195 - mse: 0.0195\n",
      "Epoch 84/300\n",
      "8/8 [==============================] - 0s 834us/step - loss: 0.0195 - mse: 0.0195\n",
      "Epoch 85/300\n",
      "8/8 [==============================] - 0s 850us/step - loss: 0.0195 - mse: 0.0195\n",
      "Epoch 86/300\n",
      "8/8 [==============================] - 0s 819us/step - loss: 0.0196 - mse: 0.0196\n",
      "Epoch 87/300\n"
     ]
    },
    {
     "name": "stdout",
     "output_type": "stream",
     "text": [
      "8/8 [==============================] - 0s 939us/step - loss: 0.0195 - mse: 0.0195\n",
      "Epoch 88/300\n",
      "8/8 [==============================] - 0s 899us/step - loss: 0.0195 - mse: 0.0195\n",
      "Epoch 89/300\n",
      "8/8 [==============================] - 0s 786us/step - loss: 0.0196 - mse: 0.0196\n",
      "Epoch 90/300\n",
      "8/8 [==============================] - 0s 851us/step - loss: 0.0196 - mse: 0.0196\n",
      "Epoch 91/300\n",
      "8/8 [==============================] - 0s 841us/step - loss: 0.0195 - mse: 0.0195\n",
      "Epoch 92/300\n",
      "8/8 [==============================] - 0s 871us/step - loss: 0.0195 - mse: 0.0195\n",
      "Epoch 93/300\n",
      "8/8 [==============================] - 0s 1ms/step - loss: 0.0196 - mse: 0.0196\n",
      "Epoch 94/300\n",
      "8/8 [==============================] - 0s 784us/step - loss: 0.0195 - mse: 0.0195\n",
      "Epoch 95/300\n",
      "8/8 [==============================] - 0s 798us/step - loss: 0.0195 - mse: 0.0195\n",
      "Epoch 96/300\n",
      "8/8 [==============================] - 0s 1ms/step - loss: 0.0195 - mse: 0.0195\n",
      "Epoch 97/300\n",
      "8/8 [==============================] - 0s 1ms/step - loss: 0.0195 - mse: 0.0195\n",
      "Epoch 98/300\n",
      "8/8 [==============================] - 0s 937us/step - loss: 0.0195 - mse: 0.0195\n",
      "Epoch 99/300\n",
      "8/8 [==============================] - 0s 973us/step - loss: 0.0195 - mse: 0.0195\n",
      "Epoch 100/300\n",
      "8/8 [==============================] - 0s 942us/step - loss: 0.0195 - mse: 0.0195\n",
      "Epoch 101/300\n",
      "8/8 [==============================] - 0s 886us/step - loss: 0.0195 - mse: 0.0195\n",
      "Epoch 102/300\n",
      "8/8 [==============================] - 0s 865us/step - loss: 0.0195 - mse: 0.0195\n",
      "Epoch 103/300\n",
      "8/8 [==============================] - 0s 889us/step - loss: 0.0195 - mse: 0.0195\n",
      "Epoch 104/300\n",
      "8/8 [==============================] - 0s 1ms/step - loss: 0.0195 - mse: 0.0195\n",
      "Epoch 105/300\n",
      "8/8 [==============================] - 0s 889us/step - loss: 0.0195 - mse: 0.0195\n",
      "Epoch 106/300\n",
      "8/8 [==============================] - 0s 913us/step - loss: 0.0195 - mse: 0.0195\n",
      "Epoch 107/300\n",
      "8/8 [==============================] - 0s 914us/step - loss: 0.0195 - mse: 0.0195\n",
      "Epoch 108/300\n",
      "8/8 [==============================] - 0s 901us/step - loss: 0.0195 - mse: 0.0195\n",
      "Epoch 109/300\n",
      "8/8 [==============================] - 0s 1ms/step - loss: 0.0196 - mse: 0.0196\n",
      "Epoch 110/300\n",
      "8/8 [==============================] - 0s 824us/step - loss: 0.0195 - mse: 0.0195\n",
      "Epoch 111/300\n",
      "8/8 [==============================] - 0s 782us/step - loss: 0.0195 - mse: 0.0195\n",
      "Epoch 112/300\n",
      "8/8 [==============================] - 0s 827us/step - loss: 0.0196 - mse: 0.0196\n",
      "Epoch 113/300\n",
      "8/8 [==============================] - 0s 1ms/step - loss: 0.0195 - mse: 0.0195\n",
      "Epoch 114/300\n",
      "8/8 [==============================] - 0s 1ms/step - loss: 0.0195 - mse: 0.0195\n",
      "Epoch 115/300\n",
      "8/8 [==============================] - 0s 1ms/step - loss: 0.0195 - mse: 0.0195\n",
      "Epoch 116/300\n",
      "8/8 [==============================] - 0s 1ms/step - loss: 0.0195 - mse: 0.0195\n",
      "Epoch 117/300\n",
      "8/8 [==============================] - 0s 1ms/step - loss: 0.0195 - mse: 0.0195\n",
      "Epoch 118/300\n",
      "8/8 [==============================] - 0s 1ms/step - loss: 0.0195 - mse: 0.0195\n",
      "Epoch 119/300\n",
      "8/8 [==============================] - 0s 1ms/step - loss: 0.0195 - mse: 0.0195\n",
      "Epoch 120/300\n",
      "8/8 [==============================] - 0s 1ms/step - loss: 0.0195 - mse: 0.0195\n",
      "Epoch 121/300\n",
      "8/8 [==============================] - 0s 1ms/step - loss: 0.0195 - mse: 0.0195\n",
      "Epoch 122/300\n",
      "8/8 [==============================] - 0s 936us/step - loss: 0.0195 - mse: 0.0195\n",
      "Epoch 123/300\n",
      "8/8 [==============================] - 0s 982us/step - loss: 0.0195 - mse: 0.0195\n",
      "Epoch 124/300\n",
      "8/8 [==============================] - 0s 795us/step - loss: 0.0195 - mse: 0.0195\n",
      "Epoch 125/300\n",
      "8/8 [==============================] - 0s 855us/step - loss: 0.0195 - mse: 0.0195\n",
      "Epoch 126/300\n",
      "8/8 [==============================] - 0s 893us/step - loss: 0.0195 - mse: 0.0195\n",
      "Epoch 127/300\n",
      "8/8 [==============================] - 0s 1ms/step - loss: 0.0195 - mse: 0.0195\n",
      "Epoch 128/300\n",
      "8/8 [==============================] - 0s 1ms/step - loss: 0.0195 - mse: 0.0195\n",
      "Epoch 129/300\n",
      "8/8 [==============================] - 0s 842us/step - loss: 0.0195 - mse: 0.0195\n",
      "Epoch 130/300\n",
      "8/8 [==============================] - 0s 965us/step - loss: 0.0195 - mse: 0.0195\n",
      "Epoch 131/300\n",
      "8/8 [==============================] - 0s 995us/step - loss: 0.0195 - mse: 0.0195\n",
      "Epoch 132/300\n",
      "8/8 [==============================] - 0s 1ms/step - loss: 0.0195 - mse: 0.0195\n",
      "Epoch 133/300\n",
      "8/8 [==============================] - 0s 907us/step - loss: 0.0195 - mse: 0.0195\n",
      "Epoch 134/300\n",
      "8/8 [==============================] - 0s 1ms/step - loss: 0.0195 - mse: 0.0195\n",
      "Epoch 135/300\n",
      "8/8 [==============================] - 0s 872us/step - loss: 0.0195 - mse: 0.0195\n",
      "Epoch 136/300\n",
      "8/8 [==============================] - 0s 938us/step - loss: 0.0195 - mse: 0.0195\n",
      "Epoch 137/300\n",
      "8/8 [==============================] - 0s 1ms/step - loss: 0.0195 - mse: 0.0195\n",
      "Epoch 138/300\n",
      "8/8 [==============================] - 0s 955us/step - loss: 0.0195 - mse: 0.0195\n",
      "Epoch 139/300\n",
      "8/8 [==============================] - 0s 1ms/step - loss: 0.0195 - mse: 0.0195\n",
      "Epoch 140/300\n",
      "8/8 [==============================] - 0s 851us/step - loss: 0.0195 - mse: 0.0195\n",
      "Epoch 141/300\n",
      "8/8 [==============================] - 0s 811us/step - loss: 0.0196 - mse: 0.0196\n",
      "Epoch 142/300\n",
      "8/8 [==============================] - 0s 799us/step - loss: 0.0195 - mse: 0.0195\n",
      "Epoch 143/300\n",
      "8/8 [==============================] - 0s 800us/step - loss: 0.0195 - mse: 0.0195\n",
      "Epoch 144/300\n",
      "8/8 [==============================] - 0s 756us/step - loss: 0.0195 - mse: 0.0195\n",
      "Epoch 145/300\n",
      "8/8 [==============================] - 0s 873us/step - loss: 0.0195 - mse: 0.0195\n",
      "Epoch 146/300\n",
      "8/8 [==============================] - 0s 762us/step - loss: 0.0195 - mse: 0.0195\n",
      "Epoch 147/300\n",
      "8/8 [==============================] - 0s 830us/step - loss: 0.0195 - mse: 0.0195\n",
      "Epoch 148/300\n",
      "8/8 [==============================] - 0s 800us/step - loss: 0.0195 - mse: 0.0195\n",
      "Epoch 149/300\n",
      "8/8 [==============================] - 0s 915us/step - loss: 0.0195 - mse: 0.0195\n",
      "Epoch 150/300\n",
      "8/8 [==============================] - 0s 765us/step - loss: 0.0195 - mse: 0.0195\n",
      "Epoch 151/300\n",
      "8/8 [==============================] - 0s 845us/step - loss: 0.0195 - mse: 0.0195\n",
      "Epoch 152/300\n",
      "8/8 [==============================] - 0s 826us/step - loss: 0.0195 - mse: 0.0195\n",
      "Epoch 153/300\n",
      "8/8 [==============================] - 0s 772us/step - loss: 0.0195 - mse: 0.0195\n",
      "Epoch 154/300\n",
      "8/8 [==============================] - 0s 924us/step - loss: 0.0195 - mse: 0.0195\n",
      "Epoch 155/300\n",
      "8/8 [==============================] - 0s 814us/step - loss: 0.0195 - mse: 0.0195\n",
      "Epoch 156/300\n",
      "8/8 [==============================] - 0s 841us/step - loss: 0.0195 - mse: 0.0195\n",
      "Epoch 157/300\n",
      "8/8 [==============================] - 0s 821us/step - loss: 0.0195 - mse: 0.0195\n",
      "Epoch 158/300\n",
      "8/8 [==============================] - 0s 767us/step - loss: 0.0196 - mse: 0.0196\n",
      "Epoch 159/300\n",
      "8/8 [==============================] - 0s 843us/step - loss: 0.0195 - mse: 0.0195\n",
      "Epoch 160/300\n",
      "8/8 [==============================] - 0s 760us/step - loss: 0.0195 - mse: 0.0195\n",
      "Epoch 161/300\n",
      "8/8 [==============================] - 0s 806us/step - loss: 0.0195 - mse: 0.0195\n",
      "Epoch 162/300\n",
      "8/8 [==============================] - 0s 864us/step - loss: 0.0195 - mse: 0.0195\n",
      "Epoch 163/300\n",
      "8/8 [==============================] - 0s 1ms/step - loss: 0.0195 - mse: 0.0195\n",
      "Epoch 164/300\n",
      "8/8 [==============================] - 0s 1ms/step - loss: 0.0195 - mse: 0.0195\n",
      "Epoch 165/300\n",
      "8/8 [==============================] - 0s 866us/step - loss: 0.0195 - mse: 0.0195\n",
      "Epoch 166/300\n",
      "8/8 [==============================] - 0s 863us/step - loss: 0.0195 - mse: 0.0195\n",
      "Epoch 167/300\n",
      "8/8 [==============================] - 0s 953us/step - loss: 0.0195 - mse: 0.0195\n",
      "Epoch 168/300\n",
      "8/8 [==============================] - 0s 1ms/step - loss: 0.0195 - mse: 0.0195\n",
      "Epoch 169/300\n",
      "8/8 [==============================] - 0s 1ms/step - loss: 0.0195 - mse: 0.0195\n",
      "Epoch 170/300\n",
      "8/8 [==============================] - 0s 1ms/step - loss: 0.0195 - mse: 0.0195\n",
      "Epoch 171/300\n",
      "8/8 [==============================] - 0s 957us/step - loss: 0.0195 - mse: 0.0195\n",
      "Epoch 172/300\n",
      "8/8 [==============================] - 0s 840us/step - loss: 0.0195 - mse: 0.0195\n",
      "Epoch 173/300\n"
     ]
    },
    {
     "name": "stdout",
     "output_type": "stream",
     "text": [
      "8/8 [==============================] - 0s 917us/step - loss: 0.0196 - mse: 0.0196\n",
      "Epoch 174/300\n",
      "8/8 [==============================] - 0s 963us/step - loss: 0.0195 - mse: 0.0195\n",
      "Epoch 175/300\n",
      "8/8 [==============================] - 0s 852us/step - loss: 0.0195 - mse: 0.0195\n",
      "Epoch 176/300\n",
      "8/8 [==============================] - 0s 806us/step - loss: 0.0195 - mse: 0.0195\n",
      "Epoch 177/300\n",
      "8/8 [==============================] - 0s 838us/step - loss: 0.0195 - mse: 0.0195\n",
      "Epoch 178/300\n",
      "8/8 [==============================] - 0s 938us/step - loss: 0.0195 - mse: 0.0195\n",
      "Epoch 179/300\n",
      "8/8 [==============================] - 0s 974us/step - loss: 0.0196 - mse: 0.0196\n",
      "Epoch 180/300\n",
      "8/8 [==============================] - 0s 791us/step - loss: 0.0195 - mse: 0.0195\n",
      "Epoch 181/300\n",
      "8/8 [==============================] - 0s 781us/step - loss: 0.0195 - mse: 0.0195\n",
      "Epoch 182/300\n",
      "8/8 [==============================] - 0s 869us/step - loss: 0.0195 - mse: 0.0195\n",
      "Epoch 183/300\n",
      "8/8 [==============================] - 0s 1ms/step - loss: 0.0195 - mse: 0.0195\n",
      "Epoch 184/300\n",
      "8/8 [==============================] - 0s 961us/step - loss: 0.0195 - mse: 0.0195\n",
      "Epoch 185/300\n",
      "8/8 [==============================] - 0s 998us/step - loss: 0.0196 - mse: 0.0196\n",
      "Epoch 186/300\n",
      "8/8 [==============================] - 0s 1ms/step - loss: 0.0195 - mse: 0.0195\n",
      "Epoch 187/300\n",
      "8/8 [==============================] - 0s 819us/step - loss: 0.0195 - mse: 0.0195\n",
      "Epoch 188/300\n",
      "8/8 [==============================] - 0s 829us/step - loss: 0.0195 - mse: 0.0195\n",
      "Epoch 189/300\n",
      "8/8 [==============================] - 0s 839us/step - loss: 0.0195 - mse: 0.0195\n",
      "Epoch 190/300\n",
      "8/8 [==============================] - 0s 938us/step - loss: 0.0195 - mse: 0.0195\n",
      "Epoch 191/300\n",
      "8/8 [==============================] - 0s 994us/step - loss: 0.0195 - mse: 0.0195\n",
      "Epoch 192/300\n",
      "8/8 [==============================] - 0s 1ms/step - loss: 0.0195 - mse: 0.0195\n",
      "Epoch 193/300\n",
      "8/8 [==============================] - 0s 987us/step - loss: 0.0196 - mse: 0.0196\n",
      "Epoch 194/300\n",
      "8/8 [==============================] - 0s 849us/step - loss: 0.0195 - mse: 0.0195\n",
      "Epoch 195/300\n",
      "8/8 [==============================] - 0s 792us/step - loss: 0.0196 - mse: 0.0196\n",
      "Epoch 196/300\n",
      "8/8 [==============================] - 0s 1ms/step - loss: 0.0195 - mse: 0.0195\n",
      "Epoch 197/300\n",
      "8/8 [==============================] - 0s 1ms/step - loss: 0.0195 - mse: 0.0195\n",
      "Epoch 198/300\n",
      "8/8 [==============================] - 0s 925us/step - loss: 0.0195 - mse: 0.0195\n",
      "Epoch 199/300\n",
      "8/8 [==============================] - 0s 899us/step - loss: 0.0195 - mse: 0.0195\n",
      "Epoch 200/300\n",
      "8/8 [==============================] - 0s 788us/step - loss: 0.0195 - mse: 0.0195\n",
      "Epoch 201/300\n",
      "8/8 [==============================] - 0s 943us/step - loss: 0.0195 - mse: 0.0195\n",
      "Epoch 202/300\n",
      "8/8 [==============================] - 0s 979us/step - loss: 0.0195 - mse: 0.0195\n",
      "Epoch 203/300\n",
      "8/8 [==============================] - 0s 1ms/step - loss: 0.0195 - mse: 0.0195\n",
      "Epoch 204/300\n",
      "8/8 [==============================] - 0s 976us/step - loss: 0.0195 - mse: 0.0195\n",
      "Epoch 205/300\n",
      "8/8 [==============================] - 0s 774us/step - loss: 0.0195 - mse: 0.0195\n",
      "Epoch 206/300\n",
      "8/8 [==============================] - 0s 774us/step - loss: 0.0195 - mse: 0.0195\n",
      "Epoch 207/300\n",
      "8/8 [==============================] - 0s 890us/step - loss: 0.0195 - mse: 0.0195\n",
      "Epoch 208/300\n",
      "8/8 [==============================] - 0s 958us/step - loss: 0.0195 - mse: 0.0195\n",
      "Epoch 209/300\n",
      "8/8 [==============================] - 0s 811us/step - loss: 0.0195 - mse: 0.0195\n",
      "Epoch 210/300\n",
      "8/8 [==============================] - 0s 810us/step - loss: 0.0196 - mse: 0.0196\n",
      "Epoch 211/300\n",
      "8/8 [==============================] - 0s 927us/step - loss: 0.0195 - mse: 0.0195\n",
      "Epoch 212/300\n",
      "8/8 [==============================] - 0s 806us/step - loss: 0.0195 - mse: 0.0195\n",
      "Epoch 213/300\n",
      "8/8 [==============================] - 0s 944us/step - loss: 0.0195 - mse: 0.0195\n",
      "Epoch 214/300\n",
      "8/8 [==============================] - 0s 864us/step - loss: 0.0195 - mse: 0.0195\n",
      "Epoch 215/300\n",
      "8/8 [==============================] - 0s 928us/step - loss: 0.0195 - mse: 0.0195\n",
      "Epoch 216/300\n",
      "8/8 [==============================] - 0s 1ms/step - loss: 0.0196 - mse: 0.0196\n",
      "Epoch 217/300\n",
      "8/8 [==============================] - 0s 815us/step - loss: 0.0195 - mse: 0.0195\n",
      "Epoch 218/300\n",
      "8/8 [==============================] - 0s 944us/step - loss: 0.0195 - mse: 0.0195\n",
      "Epoch 219/300\n",
      "8/8 [==============================] - 0s 777us/step - loss: 0.0195 - mse: 0.0195\n",
      "Epoch 220/300\n",
      "8/8 [==============================] - 0s 878us/step - loss: 0.0195 - mse: 0.0195\n",
      "Epoch 221/300\n",
      "8/8 [==============================] - 0s 838us/step - loss: 0.0195 - mse: 0.0195\n",
      "Epoch 222/300\n",
      "8/8 [==============================] - 0s 801us/step - loss: 0.0195 - mse: 0.0195\n",
      "Epoch 223/300\n",
      "8/8 [==============================] - 0s 982us/step - loss: 0.0195 - mse: 0.0195\n",
      "Epoch 224/300\n",
      "8/8 [==============================] - 0s 837us/step - loss: 0.0195 - mse: 0.0195\n",
      "Epoch 225/300\n",
      "8/8 [==============================] - 0s 757us/step - loss: 0.0195 - mse: 0.0195\n",
      "Epoch 226/300\n",
      "8/8 [==============================] - 0s 932us/step - loss: 0.0195 - mse: 0.0195\n",
      "Epoch 227/300\n",
      "8/8 [==============================] - 0s 811us/step - loss: 0.0195 - mse: 0.0195\n",
      "Epoch 228/300\n",
      "8/8 [==============================] - 0s 964us/step - loss: 0.0195 - mse: 0.0195\n",
      "Epoch 229/300\n",
      "8/8 [==============================] - 0s 789us/step - loss: 0.0196 - mse: 0.0196\n",
      "Epoch 230/300\n",
      "8/8 [==============================] - 0s 902us/step - loss: 0.0195 - mse: 0.0195\n",
      "Epoch 231/300\n",
      "8/8 [==============================] - 0s 756us/step - loss: 0.0195 - mse: 0.0195\n",
      "Epoch 232/300\n",
      "8/8 [==============================] - 0s 943us/step - loss: 0.0195 - mse: 0.0195\n",
      "Epoch 233/300\n",
      "8/8 [==============================] - 0s 3ms/step - loss: 0.0195 - mse: 0.0195\n",
      "Epoch 234/300\n",
      "8/8 [==============================] - 0s 2ms/step - loss: 0.0195 - mse: 0.0195\n",
      "Epoch 235/300\n",
      "8/8 [==============================] - 0s 878us/step - loss: 0.0195 - mse: 0.0195\n",
      "Epoch 236/300\n",
      "8/8 [==============================] - 0s 1ms/step - loss: 0.0195 - mse: 0.0195\n",
      "Epoch 237/300\n",
      "8/8 [==============================] - 0s 829us/step - loss: 0.0195 - mse: 0.0195\n",
      "Epoch 238/300\n",
      "8/8 [==============================] - 0s 1ms/step - loss: 0.0195 - mse: 0.0195\n",
      "Epoch 239/300\n",
      "8/8 [==============================] - 0s 7ms/step - loss: 0.0196 - mse: 0.0196\n",
      "Epoch 240/300\n",
      "8/8 [==============================] - 0s 2ms/step - loss: 0.0195 - mse: 0.0195\n",
      "Epoch 241/300\n",
      "8/8 [==============================] - 0s 933us/step - loss: 0.0195 - mse: 0.0195\n",
      "Epoch 242/300\n",
      "8/8 [==============================] - 0s 979us/step - loss: 0.0195 - mse: 0.0195\n",
      "Epoch 243/300\n",
      "8/8 [==============================] - 0s 763us/step - loss: 0.0195 - mse: 0.0195\n",
      "Epoch 244/300\n",
      "8/8 [==============================] - 0s 953us/step - loss: 0.0195 - mse: 0.0195\n",
      "Epoch 245/300\n",
      "8/8 [==============================] - 0s 749us/step - loss: 0.0195 - mse: 0.0195\n",
      "Epoch 246/300\n",
      "8/8 [==============================] - 0s 876us/step - loss: 0.0195 - mse: 0.0195\n",
      "Epoch 247/300\n",
      "8/8 [==============================] - 0s 720us/step - loss: 0.0195 - mse: 0.0195\n",
      "Epoch 248/300\n",
      "8/8 [==============================] - 0s 965us/step - loss: 0.0195 - mse: 0.0195\n",
      "Epoch 249/300\n",
      "8/8 [==============================] - 0s 766us/step - loss: 0.0195 - mse: 0.0195\n",
      "Epoch 250/300\n",
      "8/8 [==============================] - 0s 952us/step - loss: 0.0195 - mse: 0.0195\n",
      "Epoch 251/300\n",
      "8/8 [==============================] - 0s 768us/step - loss: 0.0195 - mse: 0.0195\n",
      "Epoch 252/300\n",
      "8/8 [==============================] - 0s 875us/step - loss: 0.0195 - mse: 0.0195\n",
      "Epoch 253/300\n",
      "8/8 [==============================] - 0s 755us/step - loss: 0.0195 - mse: 0.0195\n",
      "Epoch 254/300\n",
      "8/8 [==============================] - 0s 928us/step - loss: 0.0195 - mse: 0.0195\n",
      "Epoch 255/300\n",
      "8/8 [==============================] - 0s 712us/step - loss: 0.0195 - mse: 0.0195\n",
      "Epoch 256/300\n",
      "8/8 [==============================] - 0s 906us/step - loss: 0.0195 - mse: 0.0195\n",
      "Epoch 257/300\n",
      "8/8 [==============================] - 0s 806us/step - loss: 0.0196 - mse: 0.0196\n",
      "Epoch 258/300\n"
     ]
    },
    {
     "name": "stdout",
     "output_type": "stream",
     "text": [
      "8/8 [==============================] - 0s 985us/step - loss: 0.0195 - mse: 0.0195\n",
      "Epoch 259/300\n",
      "8/8 [==============================] - 0s 758us/step - loss: 0.0195 - mse: 0.0195\n",
      "Epoch 260/300\n",
      "8/8 [==============================] - 0s 919us/step - loss: 0.0196 - mse: 0.0196\n",
      "Epoch 261/300\n",
      "8/8 [==============================] - 0s 774us/step - loss: 0.0195 - mse: 0.0195\n",
      "Epoch 262/300\n",
      "8/8 [==============================] - 0s 957us/step - loss: 0.0195 - mse: 0.0195\n",
      "Epoch 263/300\n",
      "8/8 [==============================] - 0s 771us/step - loss: 0.0195 - mse: 0.0195\n",
      "Epoch 264/300\n",
      "8/8 [==============================] - 0s 816us/step - loss: 0.0195 - mse: 0.0195\n",
      "Epoch 265/300\n",
      "8/8 [==============================] - 0s 745us/step - loss: 0.0196 - mse: 0.0196\n",
      "Epoch 266/300\n",
      "8/8 [==============================] - 0s 830us/step - loss: 0.0196 - mse: 0.0196\n",
      "Epoch 267/300\n",
      "8/8 [==============================] - 0s 751us/step - loss: 0.0195 - mse: 0.0195\n",
      "Epoch 268/300\n",
      "8/8 [==============================] - 0s 753us/step - loss: 0.0195 - mse: 0.0195\n",
      "Epoch 269/300\n",
      "8/8 [==============================] - 0s 762us/step - loss: 0.0195 - mse: 0.0195\n",
      "Epoch 270/300\n",
      "8/8 [==============================] - 0s 780us/step - loss: 0.0195 - mse: 0.0195\n",
      "Epoch 271/300\n",
      "8/8 [==============================] - 0s 697us/step - loss: 0.0195 - mse: 0.0195\n",
      "Epoch 272/300\n",
      "8/8 [==============================] - 0s 838us/step - loss: 0.0195 - mse: 0.0195\n",
      "Epoch 273/300\n",
      "8/8 [==============================] - 0s 729us/step - loss: 0.0195 - mse: 0.0195\n",
      "Epoch 274/300\n",
      "8/8 [==============================] - 0s 730us/step - loss: 0.0195 - mse: 0.0195\n",
      "Epoch 275/300\n",
      "8/8 [==============================] - 0s 761us/step - loss: 0.0195 - mse: 0.0195\n",
      "Epoch 276/300\n",
      "8/8 [==============================] - 0s 812us/step - loss: 0.0195 - mse: 0.0195\n",
      "Epoch 277/300\n",
      "8/8 [==============================] - 0s 739us/step - loss: 0.0195 - mse: 0.0195\n",
      "Epoch 278/300\n",
      "8/8 [==============================] - 0s 781us/step - loss: 0.0196 - mse: 0.0196\n",
      "Epoch 279/300\n",
      "8/8 [==============================] - 0s 740us/step - loss: 0.0195 - mse: 0.0195\n",
      "Epoch 280/300\n",
      "8/8 [==============================] - 0s 841us/step - loss: 0.0195 - mse: 0.0195\n",
      "Epoch 281/300\n",
      "8/8 [==============================] - 0s 734us/step - loss: 0.0195 - mse: 0.0195\n",
      "Epoch 282/300\n",
      "8/8 [==============================] - 0s 998us/step - loss: 0.0195 - mse: 0.0195\n",
      "Epoch 283/300\n",
      "8/8 [==============================] - 0s 798us/step - loss: 0.0195 - mse: 0.0195\n",
      "Epoch 284/300\n",
      "8/8 [==============================] - 0s 952us/step - loss: 0.0195 - mse: 0.0195\n",
      "Epoch 285/300\n",
      "8/8 [==============================] - 0s 792us/step - loss: 0.0195 - mse: 0.0195\n",
      "Epoch 286/300\n",
      "8/8 [==============================] - 0s 856us/step - loss: 0.0195 - mse: 0.0195\n",
      "Epoch 287/300\n",
      "8/8 [==============================] - 0s 741us/step - loss: 0.0195 - mse: 0.0195\n",
      "Epoch 288/300\n",
      "8/8 [==============================] - 0s 977us/step - loss: 0.0195 - mse: 0.0195\n",
      "Epoch 289/300\n",
      "8/8 [==============================] - 0s 750us/step - loss: 0.0195 - mse: 0.0195\n",
      "Epoch 290/300\n",
      "8/8 [==============================] - 0s 945us/step - loss: 0.0195 - mse: 0.0195\n",
      "Epoch 291/300\n",
      "8/8 [==============================] - 0s 756us/step - loss: 0.0195 - mse: 0.0195\n",
      "Epoch 292/300\n",
      "8/8 [==============================] - 0s 845us/step - loss: 0.0195 - mse: 0.0195\n",
      "Epoch 293/300\n",
      "8/8 [==============================] - 0s 725us/step - loss: 0.0195 - mse: 0.0195\n",
      "Epoch 294/300\n",
      "8/8 [==============================] - 0s 884us/step - loss: 0.0195 - mse: 0.0195\n",
      "Epoch 295/300\n",
      "8/8 [==============================] - 0s 715us/step - loss: 0.0195 - mse: 0.0195\n",
      "Epoch 296/300\n",
      "8/8 [==============================] - 0s 833us/step - loss: 0.0195 - mse: 0.0195\n",
      "Epoch 297/300\n",
      "8/8 [==============================] - 0s 810us/step - loss: 0.0195 - mse: 0.0195\n",
      "Epoch 298/300\n",
      "8/8 [==============================] - 0s 1ms/step - loss: 0.0195 - mse: 0.0195\n",
      "Epoch 299/300\n",
      "8/8 [==============================] - 0s 706us/step - loss: 0.0195 - mse: 0.0195\n",
      "Epoch 300/300\n",
      "8/8 [==============================] - 0s 793us/step - loss: 0.0195 - mse: 0.0195\n"
     ]
    }
   ],
   "source": [
    "model.compile(optimizer='sgd', loss='mse', metrics='mse')\n",
    "history = model.fit(trainX, trainY, steps_per_epoch=8, epochs=300)"
   ]
  },
  {
   "cell_type": "code",
   "execution_count": 44,
   "id": "5a509651",
   "metadata": {},
   "outputs": [],
   "source": [
    "processed_x = x_scaler.transform(np.reshape(testX, (-1, 1)))\n",
    "predicted_y = y_scaler.inverse_transform(model(processed_x.astype(\"float32\")))"
   ]
  },
  {
   "cell_type": "code",
   "execution_count": 45,
   "id": "da043fca",
   "metadata": {},
   "outputs": [
    {
     "data": {
      "text/plain": [
       "0.9811968851710628"
      ]
     },
     "execution_count": 45,
     "metadata": {},
     "output_type": "execute_result"
    }
   ],
   "source": [
    "r2_score(testY, predicted_y)"
   ]
  },
  {
   "cell_type": "code",
   "execution_count": 46,
   "id": "e0d97aa9",
   "metadata": {},
   "outputs": [
    {
     "data": {
      "text/plain": [
       "[<tf.Variable 'dense/kernel:0' shape=(1, 1) dtype=float32, numpy=array([[0.9898361]], dtype=float32)>,\n",
       " <tf.Variable 'dense/bias:0' shape=(1,) dtype=float32, numpy=array([0.00022722], dtype=float32)>]"
      ]
     },
     "execution_count": 46,
     "metadata": {},
     "output_type": "execute_result"
    }
   ],
   "source": [
    "# check params\n",
    "model.weights"
   ]
  },
  {
   "cell_type": "code",
   "execution_count": 47,
   "id": "05d1246c",
   "metadata": {},
   "outputs": [
    {
     "data": {
      "text/plain": [
       "[array([[0.9898361]], dtype=float32), array([0.00022722], dtype=float32)]"
      ]
     },
     "execution_count": 47,
     "metadata": {},
     "output_type": "execute_result"
    }
   ],
   "source": [
    "model.get_weights()"
   ]
  },
  {
   "cell_type": "code",
   "execution_count": null,
   "id": "287e012d",
   "metadata": {},
   "outputs": [],
   "source": []
  }
 ],
 "metadata": {
  "kernelspec": {
   "display_name": "Python 3",
   "language": "python",
   "name": "python3"
  },
  "language_info": {
   "codemirror_mode": {
    "name": "ipython",
    "version": 3
   },
   "file_extension": ".py",
   "mimetype": "text/x-python",
   "name": "python",
   "nbconvert_exporter": "python",
   "pygments_lexer": "ipython3",
   "version": "3.8.8"
  }
 },
 "nbformat": 4,
 "nbformat_minor": 5
}
